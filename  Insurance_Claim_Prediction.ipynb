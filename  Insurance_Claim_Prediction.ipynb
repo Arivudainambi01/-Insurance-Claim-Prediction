{
 "cells": [
  {
   "cell_type": "markdown",
   "id": "46908853",
   "metadata": {},
   "source": [
    "# Problem\n",
    "\n",
    "An Insurance firm providing tour insurance is facing higher claim frequency. The management decides to collect data from the past few years. You are assigned the task to make a model which predicts the claim status and provide recommendations to management. Use CART, RF & ANN and compare the models' performances in train and test sets."
   ]
  },
  {
   "cell_type": "code",
   "execution_count": 1,
   "id": "496d730c",
   "metadata": {},
   "outputs": [],
   "source": [
    "import numpy as np \n",
    "import pandas as pd \n",
    "import matplotlib.pyplot as plt\n",
    "import seaborn as sns\n",
    "from scipy.stats import zscore\n",
    "from scipy.cluster.hierarchy import linkage ,dendrogram,fcluster\n",
    "from sklearn.cluster import KMeans\n",
    "from sklearn.metrics import silhouette_score,silhouette_samples\n",
    "from sklearn.tree import DecisionTreeClassifier\n",
    "from sklearn.ensemble import RandomForestClassifier\n",
    "from sklearn.neural_network import MLPClassifier\n",
    "from sklearn.model_selection import train_test_split\n",
    "from sklearn import tree\n",
    "from sklearn.model_selection import GridSearchCV\n",
    "from sklearn.metrics import classification_report,confusion_matrix\n",
    "from sklearn.preprocessing import StandardScaler \n",
    "import warnings\n",
    "warnings.filterwarnings('ignore')"
   ]
  },
  {
   "cell_type": "markdown",
   "id": "ba5f727f",
   "metadata": {},
   "source": [
    "# Read the Data"
   ]
  },
  {
   "cell_type": "code",
   "execution_count": 184,
   "id": "7f1bf4d6",
   "metadata": {},
   "outputs": [],
   "source": [
    "insurance_df = pd.read_csv('insurance_part2_data-2.csv')"
   ]
  },
  {
   "cell_type": "code",
   "execution_count": 185,
   "id": "e4338652",
   "metadata": {},
   "outputs": [
    {
     "data": {
      "text/html": [
       "<div>\n",
       "<style scoped>\n",
       "    .dataframe tbody tr th:only-of-type {\n",
       "        vertical-align: middle;\n",
       "    }\n",
       "\n",
       "    .dataframe tbody tr th {\n",
       "        vertical-align: top;\n",
       "    }\n",
       "\n",
       "    .dataframe thead th {\n",
       "        text-align: right;\n",
       "    }\n",
       "</style>\n",
       "<table border=\"1\" class=\"dataframe\">\n",
       "  <thead>\n",
       "    <tr style=\"text-align: right;\">\n",
       "      <th></th>\n",
       "      <th>Age</th>\n",
       "      <th>Agency_Code</th>\n",
       "      <th>Type</th>\n",
       "      <th>Claimed</th>\n",
       "      <th>Commision</th>\n",
       "      <th>Channel</th>\n",
       "      <th>Duration</th>\n",
       "      <th>Sales</th>\n",
       "      <th>Product Name</th>\n",
       "      <th>Destination</th>\n",
       "    </tr>\n",
       "  </thead>\n",
       "  <tbody>\n",
       "    <tr>\n",
       "      <th>0</th>\n",
       "      <td>48</td>\n",
       "      <td>C2B</td>\n",
       "      <td>Airlines</td>\n",
       "      <td>No</td>\n",
       "      <td>0.70</td>\n",
       "      <td>Online</td>\n",
       "      <td>7</td>\n",
       "      <td>2.51</td>\n",
       "      <td>Customised Plan</td>\n",
       "      <td>ASIA</td>\n",
       "    </tr>\n",
       "    <tr>\n",
       "      <th>1</th>\n",
       "      <td>36</td>\n",
       "      <td>EPX</td>\n",
       "      <td>Travel Agency</td>\n",
       "      <td>No</td>\n",
       "      <td>0.00</td>\n",
       "      <td>Online</td>\n",
       "      <td>34</td>\n",
       "      <td>20.00</td>\n",
       "      <td>Customised Plan</td>\n",
       "      <td>ASIA</td>\n",
       "    </tr>\n",
       "    <tr>\n",
       "      <th>2</th>\n",
       "      <td>39</td>\n",
       "      <td>CWT</td>\n",
       "      <td>Travel Agency</td>\n",
       "      <td>No</td>\n",
       "      <td>5.94</td>\n",
       "      <td>Online</td>\n",
       "      <td>3</td>\n",
       "      <td>9.90</td>\n",
       "      <td>Customised Plan</td>\n",
       "      <td>Americas</td>\n",
       "    </tr>\n",
       "    <tr>\n",
       "      <th>3</th>\n",
       "      <td>36</td>\n",
       "      <td>EPX</td>\n",
       "      <td>Travel Agency</td>\n",
       "      <td>No</td>\n",
       "      <td>0.00</td>\n",
       "      <td>Online</td>\n",
       "      <td>4</td>\n",
       "      <td>26.00</td>\n",
       "      <td>Cancellation Plan</td>\n",
       "      <td>ASIA</td>\n",
       "    </tr>\n",
       "    <tr>\n",
       "      <th>4</th>\n",
       "      <td>33</td>\n",
       "      <td>JZI</td>\n",
       "      <td>Airlines</td>\n",
       "      <td>No</td>\n",
       "      <td>6.30</td>\n",
       "      <td>Online</td>\n",
       "      <td>53</td>\n",
       "      <td>18.00</td>\n",
       "      <td>Bronze Plan</td>\n",
       "      <td>ASIA</td>\n",
       "    </tr>\n",
       "  </tbody>\n",
       "</table>\n",
       "</div>"
      ],
      "text/plain": [
       "   Age Agency_Code           Type Claimed  Commision Channel  Duration  Sales  \\\n",
       "0   48         C2B       Airlines      No       0.70  Online         7   2.51   \n",
       "1   36         EPX  Travel Agency      No       0.00  Online        34  20.00   \n",
       "2   39         CWT  Travel Agency      No       5.94  Online         3   9.90   \n",
       "3   36         EPX  Travel Agency      No       0.00  Online         4  26.00   \n",
       "4   33         JZI       Airlines      No       6.30  Online        53  18.00   \n",
       "\n",
       "        Product Name Destination  \n",
       "0    Customised Plan        ASIA  \n",
       "1    Customised Plan        ASIA  \n",
       "2    Customised Plan    Americas  \n",
       "3  Cancellation Plan        ASIA  \n",
       "4        Bronze Plan        ASIA  "
      ]
     },
     "execution_count": 185,
     "metadata": {},
     "output_type": "execute_result"
    }
   ],
   "source": [
    "insurance_df.head()"
   ]
  },
  {
   "cell_type": "code",
   "execution_count": 186,
   "id": "b49ab77f",
   "metadata": {},
   "outputs": [
    {
     "data": {
      "text/plain": [
       "(3000, 10)"
      ]
     },
     "execution_count": 186,
     "metadata": {},
     "output_type": "execute_result"
    }
   ],
   "source": [
    "insurance_df.shape"
   ]
  },
  {
   "cell_type": "code",
   "execution_count": 187,
   "id": "7013b17f",
   "metadata": {
    "scrolled": false
   },
   "outputs": [
    {
     "data": {
      "text/html": [
       "<div>\n",
       "<style scoped>\n",
       "    .dataframe tbody tr th:only-of-type {\n",
       "        vertical-align: middle;\n",
       "    }\n",
       "\n",
       "    .dataframe tbody tr th {\n",
       "        vertical-align: top;\n",
       "    }\n",
       "\n",
       "    .dataframe thead th {\n",
       "        text-align: right;\n",
       "    }\n",
       "</style>\n",
       "<table border=\"1\" class=\"dataframe\">\n",
       "  <thead>\n",
       "    <tr style=\"text-align: right;\">\n",
       "      <th></th>\n",
       "      <th>Age</th>\n",
       "      <th>Commision</th>\n",
       "      <th>Duration</th>\n",
       "      <th>Sales</th>\n",
       "    </tr>\n",
       "  </thead>\n",
       "  <tbody>\n",
       "    <tr>\n",
       "      <th>count</th>\n",
       "      <td>3000.000000</td>\n",
       "      <td>3000.000000</td>\n",
       "      <td>3000.000000</td>\n",
       "      <td>3000.000000</td>\n",
       "    </tr>\n",
       "    <tr>\n",
       "      <th>mean</th>\n",
       "      <td>38.091000</td>\n",
       "      <td>14.529203</td>\n",
       "      <td>70.001333</td>\n",
       "      <td>60.249913</td>\n",
       "    </tr>\n",
       "    <tr>\n",
       "      <th>std</th>\n",
       "      <td>10.463518</td>\n",
       "      <td>25.481455</td>\n",
       "      <td>134.053313</td>\n",
       "      <td>70.733954</td>\n",
       "    </tr>\n",
       "    <tr>\n",
       "      <th>min</th>\n",
       "      <td>8.000000</td>\n",
       "      <td>0.000000</td>\n",
       "      <td>-1.000000</td>\n",
       "      <td>0.000000</td>\n",
       "    </tr>\n",
       "    <tr>\n",
       "      <th>25%</th>\n",
       "      <td>32.000000</td>\n",
       "      <td>0.000000</td>\n",
       "      <td>11.000000</td>\n",
       "      <td>20.000000</td>\n",
       "    </tr>\n",
       "    <tr>\n",
       "      <th>50%</th>\n",
       "      <td>36.000000</td>\n",
       "      <td>4.630000</td>\n",
       "      <td>26.500000</td>\n",
       "      <td>33.000000</td>\n",
       "    </tr>\n",
       "    <tr>\n",
       "      <th>75%</th>\n",
       "      <td>42.000000</td>\n",
       "      <td>17.235000</td>\n",
       "      <td>63.000000</td>\n",
       "      <td>69.000000</td>\n",
       "    </tr>\n",
       "    <tr>\n",
       "      <th>max</th>\n",
       "      <td>84.000000</td>\n",
       "      <td>210.210000</td>\n",
       "      <td>4580.000000</td>\n",
       "      <td>539.000000</td>\n",
       "    </tr>\n",
       "  </tbody>\n",
       "</table>\n",
       "</div>"
      ],
      "text/plain": [
       "               Age    Commision     Duration        Sales\n",
       "count  3000.000000  3000.000000  3000.000000  3000.000000\n",
       "mean     38.091000    14.529203    70.001333    60.249913\n",
       "std      10.463518    25.481455   134.053313    70.733954\n",
       "min       8.000000     0.000000    -1.000000     0.000000\n",
       "25%      32.000000     0.000000    11.000000    20.000000\n",
       "50%      36.000000     4.630000    26.500000    33.000000\n",
       "75%      42.000000    17.235000    63.000000    69.000000\n",
       "max      84.000000   210.210000  4580.000000   539.000000"
      ]
     },
     "execution_count": 187,
     "metadata": {},
     "output_type": "execute_result"
    }
   ],
   "source": [
    "insurance_df.describe()"
   ]
  },
  {
   "cell_type": "code",
   "execution_count": 188,
   "id": "192a77bb",
   "metadata": {},
   "outputs": [
    {
     "name": "stdout",
     "output_type": "stream",
     "text": [
      "<class 'pandas.core.frame.DataFrame'>\n",
      "RangeIndex: 3000 entries, 0 to 2999\n",
      "Data columns (total 10 columns):\n",
      " #   Column        Non-Null Count  Dtype  \n",
      "---  ------        --------------  -----  \n",
      " 0   Age           3000 non-null   int64  \n",
      " 1   Agency_Code   3000 non-null   object \n",
      " 2   Type          3000 non-null   object \n",
      " 3   Claimed       3000 non-null   object \n",
      " 4   Commision     3000 non-null   float64\n",
      " 5   Channel       3000 non-null   object \n",
      " 6   Duration      3000 non-null   int64  \n",
      " 7   Sales         3000 non-null   float64\n",
      " 8   Product Name  3000 non-null   object \n",
      " 9   Destination   3000 non-null   object \n",
      "dtypes: float64(2), int64(2), object(6)\n",
      "memory usage: 234.5+ KB\n"
     ]
    }
   ],
   "source": [
    "insurance_df.info()"
   ]
  },
  {
   "cell_type": "code",
   "execution_count": 189,
   "id": "db02be38",
   "metadata": {},
   "outputs": [
    {
     "data": {
      "text/plain": [
       "Age             0\n",
       "Agency_Code     0\n",
       "Type            0\n",
       "Claimed         0\n",
       "Commision       0\n",
       "Channel         0\n",
       "Duration        0\n",
       "Sales           0\n",
       "Product Name    0\n",
       "Destination     0\n",
       "dtype: int64"
      ]
     },
     "execution_count": 189,
     "metadata": {},
     "output_type": "execute_result"
    }
   ],
   "source": [
    "insurance_df.isnull().sum()"
   ]
  },
  {
   "cell_type": "code",
   "execution_count": 190,
   "id": "a84cee88",
   "metadata": {
    "scrolled": true
   },
   "outputs": [
    {
     "data": {
      "text/plain": [
       "Age               int64\n",
       "Agency_Code      object\n",
       "Type             object\n",
       "Claimed          object\n",
       "Commision       float64\n",
       "Channel          object\n",
       "Duration          int64\n",
       "Sales           float64\n",
       "Product Name     object\n",
       "Destination      object\n",
       "dtype: object"
      ]
     },
     "execution_count": 190,
     "metadata": {},
     "output_type": "execute_result"
    }
   ],
   "source": [
    "insurance_df.dtypes"
   ]
  },
  {
   "cell_type": "code",
   "execution_count": 191,
   "id": "529b95b8",
   "metadata": {},
   "outputs": [
    {
     "data": {
      "text/plain": [
       "139"
      ]
     },
     "execution_count": 191,
     "metadata": {},
     "output_type": "execute_result"
    }
   ],
   "source": [
    "insurance_df.duplicated().sum()"
   ]
  },
  {
   "cell_type": "code",
   "execution_count": 192,
   "id": "3ea0654e",
   "metadata": {},
   "outputs": [],
   "source": [
    "insurance_df.drop_duplicates(inplace = True)"
   ]
  },
  {
   "cell_type": "code",
   "execution_count": 193,
   "id": "008e7bbe",
   "metadata": {},
   "outputs": [
    {
     "data": {
      "text/plain": [
       "(2861, 10)"
      ]
     },
     "execution_count": 193,
     "metadata": {},
     "output_type": "execute_result"
    }
   ],
   "source": [
    "insurance_df.shape"
   ]
  },
  {
   "cell_type": "code",
   "execution_count": 194,
   "id": "4ac8fadc",
   "metadata": {},
   "outputs": [],
   "source": [
    "df_cat = insurance_df.select_dtypes(include = ['object'])\n",
    "df_num = insurance_df.select_dtypes(include = ['int64','float64'])"
   ]
  },
  {
   "cell_type": "markdown",
   "id": "2c7f1422",
   "metadata": {},
   "source": [
    "# Categorical variable Analysis"
   ]
  },
  {
   "cell_type": "code",
   "execution_count": 195,
   "id": "a373c4d3",
   "metadata": {},
   "outputs": [
    {
     "data": {
      "text/html": [
       "<div>\n",
       "<style scoped>\n",
       "    .dataframe tbody tr th:only-of-type {\n",
       "        vertical-align: middle;\n",
       "    }\n",
       "\n",
       "    .dataframe tbody tr th {\n",
       "        vertical-align: top;\n",
       "    }\n",
       "\n",
       "    .dataframe thead th {\n",
       "        text-align: right;\n",
       "    }\n",
       "</style>\n",
       "<table border=\"1\" class=\"dataframe\">\n",
       "  <thead>\n",
       "    <tr style=\"text-align: right;\">\n",
       "      <th></th>\n",
       "      <th>Agency_Code</th>\n",
       "      <th>Type</th>\n",
       "      <th>Claimed</th>\n",
       "      <th>Channel</th>\n",
       "      <th>Product Name</th>\n",
       "      <th>Destination</th>\n",
       "    </tr>\n",
       "  </thead>\n",
       "  <tbody>\n",
       "    <tr>\n",
       "      <th>0</th>\n",
       "      <td>C2B</td>\n",
       "      <td>Airlines</td>\n",
       "      <td>No</td>\n",
       "      <td>Online</td>\n",
       "      <td>Customised Plan</td>\n",
       "      <td>ASIA</td>\n",
       "    </tr>\n",
       "    <tr>\n",
       "      <th>1</th>\n",
       "      <td>EPX</td>\n",
       "      <td>Travel Agency</td>\n",
       "      <td>No</td>\n",
       "      <td>Online</td>\n",
       "      <td>Customised Plan</td>\n",
       "      <td>ASIA</td>\n",
       "    </tr>\n",
       "    <tr>\n",
       "      <th>2</th>\n",
       "      <td>CWT</td>\n",
       "      <td>Travel Agency</td>\n",
       "      <td>No</td>\n",
       "      <td>Online</td>\n",
       "      <td>Customised Plan</td>\n",
       "      <td>Americas</td>\n",
       "    </tr>\n",
       "    <tr>\n",
       "      <th>3</th>\n",
       "      <td>EPX</td>\n",
       "      <td>Travel Agency</td>\n",
       "      <td>No</td>\n",
       "      <td>Online</td>\n",
       "      <td>Cancellation Plan</td>\n",
       "      <td>ASIA</td>\n",
       "    </tr>\n",
       "    <tr>\n",
       "      <th>4</th>\n",
       "      <td>JZI</td>\n",
       "      <td>Airlines</td>\n",
       "      <td>No</td>\n",
       "      <td>Online</td>\n",
       "      <td>Bronze Plan</td>\n",
       "      <td>ASIA</td>\n",
       "    </tr>\n",
       "  </tbody>\n",
       "</table>\n",
       "</div>"
      ],
      "text/plain": [
       "  Agency_Code           Type Claimed Channel       Product Name Destination\n",
       "0         C2B       Airlines      No  Online    Customised Plan        ASIA\n",
       "1         EPX  Travel Agency      No  Online    Customised Plan        ASIA\n",
       "2         CWT  Travel Agency      No  Online    Customised Plan    Americas\n",
       "3         EPX  Travel Agency      No  Online  Cancellation Plan        ASIA\n",
       "4         JZI       Airlines      No  Online        Bronze Plan        ASIA"
      ]
     },
     "execution_count": 195,
     "metadata": {},
     "output_type": "execute_result"
    }
   ],
   "source": [
    "df_cat.head()"
   ]
  },
  {
   "cell_type": "code",
   "execution_count": 196,
   "id": "9bee8885",
   "metadata": {},
   "outputs": [
    {
     "data": {
      "text/plain": [
       "<AxesSubplot:xlabel='Agency_Code', ylabel='count'>"
      ]
     },
     "execution_count": 196,
     "metadata": {},
     "output_type": "execute_result"
    },
    {
     "data": {
      "image/png": "[encoded data removed]",
      "text/plain": [
       "<Figure size 432x288 with 1 Axes>"
      ]
     },
     "metadata": {
      "needs_background": "light"
     },
     "output_type": "display_data"
    }
   ],
   "source": [
    "sns.countplot(df_cat['Agency_Code'])"
   ]
  },
  {
   "cell_type": "code",
   "execution_count": 197,
   "id": "bcf228e6",
   "metadata": {},
   "outputs": [
    {
     "data": {
      "text/plain": [
       "<AxesSubplot:xlabel='Agency_Code', ylabel='Sales'>"
      ]
     },
     "execution_count": 197,
     "metadata": {},
     "output_type": "execute_result"
    },
    {
     "data": {
      "image/png": "[encoded data removed]",
      "text/plain": [
       "<Figure size 720x360 with 1 Axes>"
      ]
     },
     "metadata": {
      "needs_background": "light"
     },
     "output_type": "display_data"
    }
   ],
   "source": [
    "plt.figure(figsize=(10,5))\n",
    "sns.boxplot(data = insurance_df,x='Agency_Code',y = 'Sales',hue = 'Claimed')"
   ]
  },
  {
   "cell_type": "code",
   "execution_count": 198,
   "id": "e3b4db06",
   "metadata": {},
   "outputs": [
    {
     "data": {
      "text/plain": [
       "Travel Agency    1709\n",
       "Airlines         1152\n",
       "Name: Type, dtype: int64"
      ]
     },
     "execution_count": 198,
     "metadata": {},
     "output_type": "execute_result"
    }
   ],
   "source": [
    "df_cat['Type'].value_counts()"
   ]
  },
  {
   "cell_type": "code",
   "execution_count": 199,
   "id": "ef4358fe",
   "metadata": {},
   "outputs": [
    {
     "data": {
      "text/plain": [
       "<AxesSubplot:xlabel='Type', ylabel='count'>"
      ]
     },
     "execution_count": 199,
     "metadata": {},
     "output_type": "execute_result"
    },
    {
     "data": {
      "image/png": "[encoded data removed]",
      "text/plain": [
       "<Figure size 432x288 with 1 Axes>"
      ]
     },
     "metadata": {
      "needs_background": "light"
     },
     "output_type": "display_data"
    }
   ],
   "source": [
    "sns.countplot(data = df_cat,x = 'Type')"
   ]
  },
  {
   "cell_type": "code",
   "execution_count": 200,
   "id": "0b69e791",
   "metadata": {},
   "outputs": [
    {
     "data": {
      "text/plain": [
       "<AxesSubplot:xlabel='Type', ylabel='Sales'>"
      ]
     },
     "execution_count": 200,
     "metadata": {},
     "output_type": "execute_result"
    },
    {
     "data": {
      "image/png": "[encoded data removed]",
      "text/plain": [
       "<Figure size 432x288 with 1 Axes>"
      ]
     },
     "metadata": {
      "needs_background": "light"
     },
     "output_type": "display_data"
    }
   ],
   "source": [
    "sns.boxplot(data = insurance_df,x ='Type',y = 'Sales',hue = 'Claimed')"
   ]
  },
  {
   "cell_type": "code",
   "execution_count": 201,
   "id": "0fa71e95",
   "metadata": {},
   "outputs": [
    {
     "data": {
      "text/plain": [
       "<AxesSubplot:xlabel='Channel', ylabel='count'>"
      ]
     },
     "execution_count": 201,
     "metadata": {},
     "output_type": "execute_result"
    },
    {
     "data": {
      "image/png": "[encoded data removed]",
      "text/plain": [
       "<Figure size 432x288 with 1 Axes>"
      ]
     },
     "metadata": {
      "needs_background": "light"
     },
     "output_type": "display_data"
    }
   ],
   "source": [
    "sns.countplot(data = insurance_df,x = 'Channel')"
   ]
  },
  {
   "cell_type": "code",
   "execution_count": 202,
   "id": "64d85f1b",
   "metadata": {},
   "outputs": [
    {
     "data": {
      "text/plain": [
       "<AxesSubplot:xlabel='Channel', ylabel='Sales'>"
      ]
     },
     "execution_count": 202,
     "metadata": {},
     "output_type": "execute_result"
    },
    {
     "data": {
      "image/png": "[encoded data removed]",
      "text/plain": [
       "<Figure size 432x288 with 1 Axes>"
      ]
     },
     "metadata": {
      "needs_background": "light"
     },
     "output_type": "display_data"
    }
   ],
   "source": [
    "sns.boxplot(data = insurance_df,x = 'Channel',y = 'Sales',hue = 'Claimed')"
   ]
  },
  {
   "cell_type": "code",
   "execution_count": 203,
   "id": "62cd8698",
   "metadata": {
    "scrolled": true
   },
   "outputs": [
    {
     "data": {
      "text/plain": [
       "<AxesSubplot:xlabel='Product Name', ylabel='count'>"
      ]
     },
     "execution_count": 203,
     "metadata": {},
     "output_type": "execute_result"
    },
    {
     "data": {
      "image/png": "[encoded data removed]",
      "text/plain": [
       "<Figure size 720x360 with 1 Axes>"
      ]
     },
     "metadata": {
      "needs_background": "light"
     },
     "output_type": "display_data"
    }
   ],
   "source": [
    "plt.figure(figsize=(10,5))\n",
    "sns.countplot(data = df_cat,x = 'Product Name')"
   ]
  },
  {
   "cell_type": "code",
   "execution_count": 204,
   "id": "c11e711a",
   "metadata": {},
   "outputs": [
    {
     "data": {
      "text/plain": [
       "<AxesSubplot:xlabel='Product Name', ylabel='Sales'>"
      ]
     },
     "execution_count": 204,
     "metadata": {},
     "output_type": "execute_result"
    },
    {
     "data": {
      "image/png": "[encoded data removed]",
      "text/plain": [
       "<Figure size 720x360 with 1 Axes>"
      ]
     },
     "metadata": {
      "needs_background": "light"
     },
     "output_type": "display_data"
    }
   ],
   "source": [
    "plt.figure(figsize=(10,5))\n",
    "sns.boxplot(data = insurance_df,x = 'Product Name',y = 'Sales', hue = 'Claimed')"
   ]
  },
  {
   "cell_type": "code",
   "execution_count": 205,
   "id": "9f216d11",
   "metadata": {
    "scrolled": true
   },
   "outputs": [
    {
     "data": {
      "text/plain": [
       "<AxesSubplot:xlabel='Destination', ylabel='count'>"
      ]
     },
     "execution_count": 205,
     "metadata": {},
     "output_type": "execute_result"
    },
    {
     "data": {
      "image/png": "[encoded data removed]",
      "text/plain": [
       "<Figure size 432x288 with 1 Axes>"
      ]
     },
     "metadata": {
      "needs_background": "light"
     },
     "output_type": "display_data"
    }
   ],
   "source": [
    "sns.countplot(data = insurance_df,x = 'Destination')"
   ]
  },
  {
   "cell_type": "code",
   "execution_count": 206,
   "id": "1f31925f",
   "metadata": {},
   "outputs": [
    {
     "data": {
      "text/plain": [
       "<AxesSubplot:xlabel='Destination', ylabel='Sales'>"
      ]
     },
     "execution_count": 206,
     "metadata": {},
     "output_type": "execute_result"
    },
    {
     "data": {
      "image/png": "[encoded data removed]",
      "text/plain": [
       "<Figure size 432x288 with 1 Axes>"
      ]
     },
     "metadata": {
      "needs_background": "light"
     },
     "output_type": "display_data"
    }
   ],
   "source": [
    "sns.boxplot(data = insurance_df,x = 'Destination',y = 'Sales',hue = 'Claimed')"
   ]
  },
  {
   "cell_type": "markdown",
   "id": "7f707e1c",
   "metadata": {},
   "source": [
    "# Exploratory data analysis"
   ]
  },
  {
   "cell_type": "code",
   "execution_count": 207,
   "id": "558ef669",
   "metadata": {},
   "outputs": [],
   "source": [
    "def des(col,nbins):\n",
    "    print('\\n\\n value counts of',col)\n",
    "    print('------------------------------')\n",
    "    print(insurance_df[col].value_counts(),end = ' ')"
   ]
  },
  {
   "cell_type": "code",
   "execution_count": 208,
   "id": "6acf15d6",
   "metadata": {},
   "outputs": [
    {
     "data": {
      "text/plain": [
       "6"
      ]
     },
     "execution_count": 208,
     "metadata": {},
     "output_type": "execute_result"
    }
   ],
   "source": [
    "lst_cat = df_cat.columns.values\n",
    "len(lst_cat)"
   ]
  },
  {
   "cell_type": "code",
   "execution_count": 209,
   "id": "c35dfb6e",
   "metadata": {},
   "outputs": [
    {
     "name": "stdout",
     "output_type": "stream",
     "text": [
      "\n",
      "\n",
      " value counts of Agency_Code\n",
      "------------------------------\n",
      "EPX    1238\n",
      "C2B     913\n",
      "CWT     471\n",
      "JZI     239\n",
      "Name: Agency_Code, dtype: int64 \n",
      "\n",
      " value counts of Type\n",
      "------------------------------\n",
      "Travel Agency    1709\n",
      "Airlines         1152\n",
      "Name: Type, dtype: int64 \n",
      "\n",
      " value counts of Claimed\n",
      "------------------------------\n",
      "No     1947\n",
      "Yes     914\n",
      "Name: Claimed, dtype: int64 \n",
      "\n",
      " value counts of Channel\n",
      "------------------------------\n",
      "Online     2815\n",
      "Offline      46\n",
      "Name: Channel, dtype: int64 \n",
      "\n",
      " value counts of Product Name\n",
      "------------------------------\n",
      "Customised Plan      1071\n",
      "Bronze Plan           645\n",
      "Cancellation Plan     615\n",
      "Silver Plan           421\n",
      "Gold Plan             109\n",
      "Name: Product Name, dtype: int64 \n",
      "\n",
      " value counts of Destination\n",
      "------------------------------\n",
      "ASIA        2327\n",
      "Americas     319\n",
      "EUROPE       215\n",
      "Name: Destination, dtype: int64 "
     ]
    }
   ],
   "source": [
    "for i in lst_cat:\n",
    "    des(i,20)"
   ]
  },
  {
   "cell_type": "code",
   "execution_count": 210,
   "id": "4b02351a",
   "metadata": {},
   "outputs": [
    {
     "data": {
      "text/html": [
       "<div>\n",
       "<style scoped>\n",
       "    .dataframe tbody tr th:only-of-type {\n",
       "        vertical-align: middle;\n",
       "    }\n",
       "\n",
       "    .dataframe tbody tr th {\n",
       "        vertical-align: top;\n",
       "    }\n",
       "\n",
       "    .dataframe thead th {\n",
       "        text-align: right;\n",
       "    }\n",
       "</style>\n",
       "<table border=\"1\" class=\"dataframe\">\n",
       "  <thead>\n",
       "    <tr style=\"text-align: right;\">\n",
       "      <th></th>\n",
       "      <th>Age</th>\n",
       "      <th>Commision</th>\n",
       "      <th>Duration</th>\n",
       "      <th>Sales</th>\n",
       "    </tr>\n",
       "  </thead>\n",
       "  <tbody>\n",
       "    <tr>\n",
       "      <th>count</th>\n",
       "      <td>2861.000000</td>\n",
       "      <td>2861.000000</td>\n",
       "      <td>2861.000000</td>\n",
       "      <td>2861.000000</td>\n",
       "    </tr>\n",
       "    <tr>\n",
       "      <th>mean</th>\n",
       "      <td>38.204124</td>\n",
       "      <td>15.080996</td>\n",
       "      <td>72.120238</td>\n",
       "      <td>61.757878</td>\n",
       "    </tr>\n",
       "    <tr>\n",
       "      <th>std</th>\n",
       "      <td>10.678106</td>\n",
       "      <td>25.826834</td>\n",
       "      <td>135.977200</td>\n",
       "      <td>71.399740</td>\n",
       "    </tr>\n",
       "    <tr>\n",
       "      <th>min</th>\n",
       "      <td>8.000000</td>\n",
       "      <td>0.000000</td>\n",
       "      <td>-1.000000</td>\n",
       "      <td>0.000000</td>\n",
       "    </tr>\n",
       "    <tr>\n",
       "      <th>25%</th>\n",
       "      <td>31.000000</td>\n",
       "      <td>0.000000</td>\n",
       "      <td>12.000000</td>\n",
       "      <td>20.000000</td>\n",
       "    </tr>\n",
       "    <tr>\n",
       "      <th>50%</th>\n",
       "      <td>36.000000</td>\n",
       "      <td>5.630000</td>\n",
       "      <td>28.000000</td>\n",
       "      <td>33.500000</td>\n",
       "    </tr>\n",
       "    <tr>\n",
       "      <th>75%</th>\n",
       "      <td>43.000000</td>\n",
       "      <td>17.820000</td>\n",
       "      <td>66.000000</td>\n",
       "      <td>69.300000</td>\n",
       "    </tr>\n",
       "    <tr>\n",
       "      <th>max</th>\n",
       "      <td>84.000000</td>\n",
       "      <td>210.210000</td>\n",
       "      <td>4580.000000</td>\n",
       "      <td>539.000000</td>\n",
       "    </tr>\n",
       "  </tbody>\n",
       "</table>\n",
       "</div>"
      ],
      "text/plain": [
       "               Age    Commision     Duration        Sales\n",
       "count  2861.000000  2861.000000  2861.000000  2861.000000\n",
       "mean     38.204124    15.080996    72.120238    61.757878\n",
       "std      10.678106    25.826834   135.977200    71.399740\n",
       "min       8.000000     0.000000    -1.000000     0.000000\n",
       "25%      31.000000     0.000000    12.000000    20.000000\n",
       "50%      36.000000     5.630000    28.000000    33.500000\n",
       "75%      43.000000    17.820000    66.000000    69.300000\n",
       "max      84.000000   210.210000  4580.000000   539.000000"
      ]
     },
     "execution_count": 210,
     "metadata": {},
     "output_type": "execute_result"
    }
   ],
   "source": [
    "insurance_df.describe()"
   ]
  },
  {
   "cell_type": "code",
   "execution_count": 211,
   "id": "2c73ce3b",
   "metadata": {
    "scrolled": true
   },
   "outputs": [
    {
     "data": {
      "text/plain": [
       "<AxesSubplot:>"
      ]
     },
     "execution_count": 211,
     "metadata": {},
     "output_type": "execute_result"
    },
    {
     "data": {
      "image/png": "[encoded data removed]",
      "text/plain": [
       "<Figure size 720x360 with 1 Axes>"
      ]
     },
     "metadata": {
      "needs_background": "light"
     },
     "output_type": "display_data"
    }
   ],
   "source": [
    "plt.figure(figsize= (10,5))\n",
    "df_num.boxplot()"
   ]
  },
  {
   "cell_type": "code",
   "execution_count": 213,
   "id": "40151532",
   "metadata": {},
   "outputs": [
    {
     "data": {
      "image/png": "[encoded data removed]",
      "text/plain": [
       "<Figure size 576x576 with 4 Axes>"
      ]
     },
     "metadata": {
      "needs_background": "light"
     },
     "output_type": "display_data"
    }
   ],
   "source": [
    "plt.figure(figsize=(8,8))\n",
    "dist = df_num.columns\n",
    "for i in range(len(dist)):\n",
    "    plt.subplot(2,2,i+1)\n",
    "    sns.distplot(df_num[dist[i]],kde = True,color = 'g')\n",
    "    plt.title('Distplot of {}'.format(dist[i]))\n",
    "    plt.tight_layout()"
   ]
  },
  {
   "cell_type": "code",
   "execution_count": 214,
   "id": "9c51aa29",
   "metadata": {
    "scrolled": false
   },
   "outputs": [
    {
     "data": {
      "text/plain": [
       "<seaborn.axisgrid.PairGrid at 0x1c287669040>"
      ]
     },
     "execution_count": 214,
     "metadata": {},
     "output_type": "execute_result"
    },
    {
     "data": {
      "image/png": "[encoded data removed]",
      "text/plain": [
       "<Figure size 720x720 with 20 Axes>"
      ]
     },
     "metadata": {
      "needs_background": "light"
     },
     "output_type": "display_data"
    }
   ],
   "source": [
    "sns.pairplot(df_num)"
   ]
  },
  {
   "cell_type": "code",
   "execution_count": 215,
   "id": "379ae7b5",
   "metadata": {},
   "outputs": [],
   "source": [
    "corr = df_num.corr()"
   ]
  },
  {
   "cell_type": "code",
   "execution_count": 216,
   "id": "2abecef0",
   "metadata": {
    "scrolled": false
   },
   "outputs": [
    {
     "data": {
      "text/plain": [
       "<AxesSubplot:>"
      ]
     },
     "execution_count": 216,
     "metadata": {},
     "output_type": "execute_result"
    },
    {
     "data": {
      "image/png": "[encoded data removed]",
      "text/plain": [
       "<Figure size 432x288 with 2 Axes>"
      ]
     },
     "metadata": {
      "needs_background": "light"
     },
     "output_type": "display_data"
    }
   ],
   "source": [
    "sns.heatmap(corr,annot = True,fmt = '0.02f',cmap = 'coolwarm')"
   ]
  },
  {
   "cell_type": "markdown",
   "id": "07729664",
   "metadata": {},
   "source": [
    "# High correlation:\n",
    "    1.Commision vs sales\n",
    "    2.commision vs Duration\n",
    "    3.Duration vs sales"
   ]
  },
  {
   "cell_type": "markdown",
   "id": "f4e12de5",
   "metadata": {},
   "source": [
    "# Outliers Treatment"
   ]
  },
  {
   "cell_type": "code",
   "execution_count": 217,
   "id": "0bc2ba7c",
   "metadata": {},
   "outputs": [],
   "source": [
    "def remove_outlier(col):\n",
    "    Q1,Q3=col.quantile([0.25,0.75])\n",
    "    IQR=Q3-Q1\n",
    "    lower_range= Q1-(1.5 * IQR)\n",
    "    upper_range= Q3+(1.5 * IQR)\n",
    "    return lower_range, upper_range "
   ]
  },
  {
   "cell_type": "code",
   "execution_count": 218,
   "id": "8faf5351",
   "metadata": {},
   "outputs": [],
   "source": [
    "feature_list = df_num.columns"
   ]
  },
  {
   "cell_type": "code",
   "execution_count": 219,
   "id": "64ab5f82",
   "metadata": {},
   "outputs": [],
   "source": [
    "for i in feature_list:\n",
    "    LL, UL = remove_outlier(df_num[i])\n",
    "    df_num[i] = np.where(df_num[i] > UL, UL, df_num[i])\n",
    "    df_num[i] = np.where(df_num[i] < LL, LL, df_num[i])"
   ]
  },
  {
   "cell_type": "code",
   "execution_count": 220,
   "id": "81d86917",
   "metadata": {},
   "outputs": [
    {
     "data": {
      "text/plain": [
       "<AxesSubplot:>"
      ]
     },
     "execution_count": 220,
     "metadata": {},
     "output_type": "execute_result"
    },
    {
     "data": {
      "image/png": "[encoded data removed]",
      "text/plain": [
       "<Figure size 720x360 with 1 Axes>"
      ]
     },
     "metadata": {
      "needs_background": "light"
     },
     "output_type": "display_data"
    }
   ],
   "source": [
    "plt.figure(figsize= (10,5))\n",
    "df_num.boxplot()"
   ]
  },
  {
   "cell_type": "markdown",
   "id": "6a192184",
   "metadata": {},
   "source": [
    "# convert the object to  categorical"
   ]
  },
  {
   "cell_type": "code",
   "execution_count": 221,
   "id": "ee33c9c6",
   "metadata": {},
   "outputs": [],
   "source": [
    "for feature in insurance_df.columns:\n",
    "    if insurance_df[feature].dtype == 'object':\n",
    "        insurance_df[feature] = pd.Categorical(insurance_df[feature]).codes"
   ]
  },
  {
   "cell_type": "code",
   "execution_count": 222,
   "id": "9206e68a",
   "metadata": {},
   "outputs": [
    {
     "name": "stdout",
     "output_type": "stream",
     "text": [
      "<class 'pandas.core.frame.DataFrame'>\n",
      "Int64Index: 2861 entries, 0 to 2999\n",
      "Data columns (total 10 columns):\n",
      " #   Column        Non-Null Count  Dtype  \n",
      "---  ------        --------------  -----  \n",
      " 0   Age           2861 non-null   int64  \n",
      " 1   Agency_Code   2861 non-null   int8   \n",
      " 2   Type          2861 non-null   int8   \n",
      " 3   Claimed       2861 non-null   int8   \n",
      " 4   Commision     2861 non-null   float64\n",
      " 5   Channel       2861 non-null   int8   \n",
      " 6   Duration      2861 non-null   int64  \n",
      " 7   Sales         2861 non-null   float64\n",
      " 8   Product Name  2861 non-null   int8   \n",
      " 9   Destination   2861 non-null   int8   \n",
      "dtypes: float64(2), int64(2), int8(6)\n",
      "memory usage: 193.1 KB\n"
     ]
    }
   ],
   "source": [
    "insurance_df.info()"
   ]
  },
  {
   "cell_type": "markdown",
   "id": "c51f0e49",
   "metadata": {},
   "source": [
    "# Convereted Dataset Column "
   ]
  },
  {
   "cell_type": "code",
   "execution_count": 223,
   "id": "ad4bf1f8",
   "metadata": {},
   "outputs": [],
   "source": [
    "def value(col,nbins):\n",
    "    print('\\n\\nvalue counts of ',col)\n",
    "    print('-----------------------')\n",
    "    print(insurance_df[col].value_counts(),end = ' ')"
   ]
  },
  {
   "cell_type": "code",
   "execution_count": 224,
   "id": "f5157cdb",
   "metadata": {},
   "outputs": [
    {
     "data": {
      "text/plain": [
       "10"
      ]
     },
     "execution_count": 224,
     "metadata": {},
     "output_type": "execute_result"
    }
   ],
   "source": [
    "lst_num = insurance_df.columns.values\n",
    "len(lst_num)"
   ]
  },
  {
   "cell_type": "code",
   "execution_count": 225,
   "id": "933bb992",
   "metadata": {},
   "outputs": [
    {
     "name": "stdout",
     "output_type": "stream",
     "text": [
      "\n",
      "\n",
      "value counts of  Age\n",
      "-----------------------\n",
      "36    880\n",
      "31    124\n",
      "48    107\n",
      "30     91\n",
      "35     91\n",
      "     ... \n",
      "15      1\n",
      "14      1\n",
      "11      1\n",
      "84      1\n",
      "83      1\n",
      "Name: Age, Length: 70, dtype: int64 \n",
      "\n",
      "value counts of  Agency_Code\n",
      "-----------------------\n",
      "2    1238\n",
      "0     913\n",
      "1     471\n",
      "3     239\n",
      "Name: Agency_Code, dtype: int64 \n",
      "\n",
      "value counts of  Type\n",
      "-----------------------\n",
      "1    1709\n",
      "0    1152\n",
      "Name: Type, dtype: int64 \n",
      "\n",
      "value counts of  Claimed\n",
      "-----------------------\n",
      "0    1947\n",
      "1     914\n",
      "Name: Claimed, dtype: int64 \n",
      "\n",
      "value counts of  Commision\n",
      "-----------------------\n",
      "0.00      1239\n",
      "23.76       61\n",
      "54.00       59\n",
      "63.21       59\n",
      "7.70        57\n",
      "          ... \n",
      "160.38       1\n",
      "28.00        1\n",
      "16.27        1\n",
      "11.86        1\n",
      "49.40        1\n",
      "Name: Commision, Length: 324, dtype: int64 \n",
      "\n",
      "value counts of  Channel\n",
      "-----------------------\n",
      "1    2815\n",
      "0      46\n",
      "Name: Channel, dtype: int64 \n",
      "\n",
      "value counts of  Duration\n",
      "-----------------------\n",
      "10     78\n",
      "6      77\n",
      "11     77\n",
      "9      75\n",
      "8      71\n",
      "       ..\n",
      "334     1\n",
      "278     1\n",
      "276     1\n",
      "244     1\n",
      "431     1\n",
      "Name: Duration, Length: 257, dtype: int64 \n",
      "\n",
      "value counts of  Sales\n",
      "-----------------------\n",
      "20.00     172\n",
      "10.00     122\n",
      "22.00      79\n",
      "216.00     57\n",
      "252.85     57\n",
      "         ... \n",
      "116.50      1\n",
      "2.88        1\n",
      "103.00      1\n",
      "0.64        1\n",
      "150.00      1\n",
      "Name: Sales, Length: 380, dtype: int64 \n",
      "\n",
      "value counts of  Product Name\n",
      "-----------------------\n",
      "2    1071\n",
      "0     645\n",
      "1     615\n",
      "4     421\n",
      "3     109\n",
      "Name: Product Name, dtype: int64 \n",
      "\n",
      "value counts of  Destination\n",
      "-----------------------\n",
      "0    2327\n",
      "1     319\n",
      "2     215\n",
      "Name: Destination, dtype: int64 "
     ]
    }
   ],
   "source": [
    "for i in lst_num:\n",
    "    value(i,10)"
   ]
  },
  {
   "cell_type": "code",
   "execution_count": 226,
   "id": "cf9c26c6",
   "metadata": {
    "scrolled": true
   },
   "outputs": [
    {
     "name": "stdout",
     "output_type": "stream",
     "text": [
      "\n",
      "\n",
      "value counts of  Claimed\n",
      "-----------------------\n",
      "0    1947\n",
      "1     914\n",
      "Name: Claimed, dtype: int64 "
     ]
    }
   ],
   "source": [
    "value('Claimed',10)"
   ]
  },
  {
   "cell_type": "code",
   "execution_count": 227,
   "id": "79d5e927",
   "metadata": {},
   "outputs": [
    {
     "data": {
      "text/plain": [
       "0    0.680531\n",
       "1    0.319469\n",
       "Name: Claimed, dtype: float64"
      ]
     },
     "execution_count": 227,
     "metadata": {},
     "output_type": "execute_result"
    }
   ],
   "source": [
    "insurance_df['Claimed'].value_counts(normalize = True)"
   ]
  },
  {
   "cell_type": "markdown",
   "id": "5cb382f9",
   "metadata": {},
   "source": [
    "# Train Test split"
   ]
  },
  {
   "cell_type": "code",
   "execution_count": 228,
   "id": "30a66141",
   "metadata": {},
   "outputs": [],
   "source": [
    "x = insurance_df.drop('Claimed',axis = 1)\n",
    "y = insurance_df.pop('Claimed')"
   ]
  },
  {
   "cell_type": "code",
   "execution_count": 229,
   "id": "e02f75d9",
   "metadata": {},
   "outputs": [],
   "source": [
    "x_train,x_test,train_labels,test_labels = train_test_split(x,y, test_size=0.30,random_state = 0)"
   ]
  },
  {
   "cell_type": "code",
   "execution_count": 230,
   "id": "f2434a46",
   "metadata": {},
   "outputs": [
    {
     "name": "stdout",
     "output_type": "stream",
     "text": [
      "x_train (2002, 9)\n",
      "x_test (859, 9)\n",
      "train_labels (2002,)\n",
      "test_labels (859,)\n"
     ]
    }
   ],
   "source": [
    "print('x_train',x_train.shape)\n",
    "print('x_test',x_test.shape)\n",
    "print('train_labels',train_labels.shape)\n",
    "print('test_labels',test_labels.shape)"
   ]
  },
  {
   "cell_type": "markdown",
   "id": "6eeace49",
   "metadata": {},
   "source": [
    "# Building the decission tree model"
   ]
  },
  {
   "cell_type": "code",
   "execution_count": 231,
   "id": "c140ac9e",
   "metadata": {},
   "outputs": [],
   "source": [
    "dt_model =  DecisionTreeClassifier(criterion='gini')"
   ]
  },
  {
   "cell_type": "code",
   "execution_count": 232,
   "id": "9777d833",
   "metadata": {},
   "outputs": [
    {
     "data": {
      "text/plain": [
       "DecisionTreeClassifier()"
      ]
     },
     "execution_count": 232,
     "metadata": {},
     "output_type": "execute_result"
    }
   ],
   "source": [
    "dt_model.fit(x_train,train_labels)"
   ]
  },
  {
   "cell_type": "code",
   "execution_count": 233,
   "id": "099f32d7",
   "metadata": {},
   "outputs": [
    {
     "name": "stdout",
     "output_type": "stream",
     "text": [
      "                   Imp\n",
      "Duration      0.243684\n",
      "Sales         0.239559\n",
      "Agency_Code   0.191517\n",
      "Age           0.176130\n",
      "Commision     0.088319\n",
      "Product Name  0.026141\n",
      "Destination   0.023828\n",
      "Channel       0.007845\n",
      "Type          0.002976\n"
     ]
    }
   ],
   "source": [
    "print(pd.DataFrame(dt_model.feature_importances_,columns = ['Imp'],index = x_train.columns).sort_values('Imp',ascending=False))"
   ]
  },
  {
   "cell_type": "code",
   "execution_count": 234,
   "id": "f2b5e750",
   "metadata": {},
   "outputs": [],
   "source": [
    "train_label_char = ['No','Yes']\n",
    "\n",
    "#open file \n",
    "insurance_tree_file = open('D:\\insurancetree.dot','w')\n",
    "#dot_data\n",
    "dot_data = tree.export_graphviz(dt_model,\n",
    "                                out_file = insurance_tree_file,\n",
    "                                feature_names = list(x_train),\n",
    "                                class_names = list(train_label_char)\n",
    "                               )\n",
    "\n",
    "#close file \n",
    "insurance_tree_file.close()"
   ]
  },
  {
   "cell_type": "markdown",
   "id": "f801d49b",
   "metadata": {},
   "source": [
    "Trees are overgrown some purning technique need to apply "
   ]
  },
  {
   "cell_type": "code",
   "execution_count": 235,
   "id": "43c8ffc8",
   "metadata": {},
   "outputs": [],
   "source": [
    "param_grid1 ={\n",
    "    'max_depth':[5,10,20,30,50],\n",
    "    'min_samples_leaf':[50,100,150],\n",
    "    'min_samples_split':[150,300,450]\n",
    "}\n",
    "\n",
    "dt_model = DecisionTreeClassifier(random_state = 5)\n",
    "\n",
    "grid_search1 = GridSearchCV(estimator = dt_model,\n",
    "                          param_grid = param_grid1,\n",
    "                          cv = 3)"
   ]
  },
  {
   "cell_type": "code",
   "execution_count": 236,
   "id": "2bedbfeb",
   "metadata": {},
   "outputs": [
    {
     "data": {
      "text/plain": [
       "GridSearchCV(cv=3, estimator=DecisionTreeClassifier(random_state=5),\n",
       "             param_grid={'max_depth': [5, 10, 20, 30, 50],\n",
       "                         'min_samples_leaf': [50, 100, 150],\n",
       "                         'min_samples_split': [150, 300, 450]})"
      ]
     },
     "execution_count": 236,
     "metadata": {},
     "output_type": "execute_result"
    }
   ],
   "source": [
    "grid_search1.fit(x_train,train_labels)"
   ]
  },
  {
   "cell_type": "code",
   "execution_count": 237,
   "id": "51faea2a",
   "metadata": {},
   "outputs": [
    {
     "data": {
      "text/plain": [
       "{'max_depth': 5, 'min_samples_leaf': 50, 'min_samples_split': 150}"
      ]
     },
     "execution_count": 237,
     "metadata": {},
     "output_type": "execute_result"
    }
   ],
   "source": [
    "grid_search1.best_params_"
   ]
  },
  {
   "cell_type": "code",
   "execution_count": 238,
   "id": "a7bcb262",
   "metadata": {},
   "outputs": [],
   "source": [
    "best_grid1 = grid_search1.best_estimator_"
   ]
  },
  {
   "cell_type": "code",
   "execution_count": 239,
   "id": "641c4cab",
   "metadata": {},
   "outputs": [],
   "source": [
    "ytrain_predict1 = best_grid1.predict(x_train)\n",
    "ytest_predict1 = best_grid1.predict(x_test)"
   ]
  },
  {
   "cell_type": "code",
   "execution_count": 240,
   "id": "420630ac",
   "metadata": {},
   "outputs": [
    {
     "data": {
      "text/plain": [
       "array([[1186,  192],\n",
       "       [ 244,  380]], dtype=int64)"
      ]
     },
     "execution_count": 240,
     "metadata": {},
     "output_type": "execute_result"
    }
   ],
   "source": [
    "confusion_matrix(train_labels,ytrain_predict1)"
   ]
  },
  {
   "cell_type": "code",
   "execution_count": 241,
   "id": "1aed8d25",
   "metadata": {},
   "outputs": [
    {
     "data": {
      "text/plain": [
       "array([[476,  93],\n",
       "       [126, 164]], dtype=int64)"
      ]
     },
     "execution_count": 241,
     "metadata": {},
     "output_type": "execute_result"
    }
   ],
   "source": [
    "confusion_matrix(test_labels,ytest_predict1)"
   ]
  },
  {
   "cell_type": "code",
   "execution_count": 242,
   "id": "fe65f3ad",
   "metadata": {},
   "outputs": [
    {
     "name": "stdout",
     "output_type": "stream",
     "text": [
      "              precision    recall  f1-score   support\n",
      "\n",
      "           0       0.83      0.86      0.84      1378\n",
      "           1       0.66      0.61      0.64       624\n",
      "\n",
      "    accuracy                           0.78      2002\n",
      "   macro avg       0.75      0.73      0.74      2002\n",
      "weighted avg       0.78      0.78      0.78      2002\n",
      "\n"
     ]
    }
   ],
   "source": [
    "print(classification_report(train_labels,ytrain_predict1))"
   ]
  },
  {
   "cell_type": "code",
   "execution_count": 243,
   "id": "96c5eae4",
   "metadata": {
    "scrolled": false
   },
   "outputs": [
    {
     "name": "stdout",
     "output_type": "stream",
     "text": [
      "              precision    recall  f1-score   support\n",
      "\n",
      "           0       0.79      0.84      0.81       569\n",
      "           1       0.64      0.57      0.60       290\n",
      "\n",
      "    accuracy                           0.75       859\n",
      "   macro avg       0.71      0.70      0.71       859\n",
      "weighted avg       0.74      0.75      0.74       859\n",
      "\n"
     ]
    }
   ],
   "source": [
    "print(classification_report(test_labels,ytest_predict1))"
   ]
  },
  {
   "cell_type": "markdown",
   "id": "a899ee7b",
   "metadata": {},
   "source": [
    "# CART model"
   ]
  },
  {
   "cell_type": "code",
   "execution_count": 244,
   "id": "95997263",
   "metadata": {},
   "outputs": [
    {
     "name": "stdout",
     "output_type": "stream",
     "text": [
      "cart model train precision  0.66\n",
      "cart model train recall  0.61\n",
      "cart model train f1  0.64\n"
     ]
    }
   ],
   "source": [
    "cart =classification_report(train_labels, ytrain_predict1,output_dict=True)\n",
    "df1=pd.DataFrame(cart).transpose()\n",
    "train_precision1=round(df1.loc[\"1\"][0],2)\n",
    "train_recall1=round(df1.loc[\"1\"][1],2)\n",
    "train_f11=round(df1.loc[\"1\"][2],2)\n",
    "print ('cart model train precision ',train_precision1)\n",
    "print ('cart model train recall ',train_recall1)\n",
    "print ('cart model train f1 ',train_f11)"
   ]
  },
  {
   "cell_type": "code",
   "execution_count": 245,
   "id": "06e353eb",
   "metadata": {},
   "outputs": [
    {
     "name": "stdout",
     "output_type": "stream",
     "text": [
      "cart model test precision  0.64\n",
      "cart model test recall  0.57\n",
      "cart model test f1  0.6\n"
     ]
    }
   ],
   "source": [
    "cart1 =classification_report(test_labels, ytest_predict1,output_dict=True)\n",
    "df2=pd.DataFrame(cart1).transpose()\n",
    "test_precision1=round(df2.loc[\"1\"][0],2)\n",
    "test_recall1=round(df2.loc[\"1\"][1],2)\n",
    "test_f11=round(df2.loc[\"1\"][2],2)\n",
    "print ('cart model test precision ',test_precision1)\n",
    "print ('cart model test recall ',test_recall1)\n",
    "print ('cart model test f1 ',test_f11)"
   ]
  },
  {
   "cell_type": "markdown",
   "id": "eff1ddf7",
   "metadata": {},
   "source": [
    "# AUC and ROC for the training data"
   ]
  },
  {
   "cell_type": "code",
   "execution_count": 246,
   "id": "98f6ad71",
   "metadata": {
    "scrolled": true
   },
   "outputs": [
    {
     "name": "stdout",
     "output_type": "stream",
     "text": [
      "AUC: 0.823\n"
     ]
    },
    {
     "data": {
      "image/png": "[encoded data removed]",
      "text/plain": [
       "<Figure size 432x288 with 1 Axes>"
      ]
     },
     "metadata": {
      "needs_background": "light"
     },
     "output_type": "display_data"
    }
   ],
   "source": [
    "# predict probabilities\n",
    "probs = grid_search1.predict_proba(x_train)\n",
    "# keep probabilities for the positive outcome only\n",
    "probs = probs[:, 1]\n",
    "# calculate AUC\n",
    "from sklearn.metrics import roc_auc_score\n",
    "auc = roc_auc_score(train_labels, probs)\n",
    "print('AUC: %.3f' % auc)\n",
    "# calculate roc curve\n",
    "from sklearn.metrics import roc_curve\n",
    "CART_tr_fpr, CART_tr_tpr, CART_tr_thresholds = roc_curve(train_labels, probs)\n",
    "plt.plot([0, 1], [0, 1], linestyle='--')\n",
    "# plot the roc curve for the model\n",
    "plt.plot(CART_tr_fpr, CART_tr_tpr, marker='.')\n",
    "# show the plot\n",
    "plt.show()"
   ]
  },
  {
   "cell_type": "markdown",
   "id": "e9b9dba6",
   "metadata": {},
   "source": [
    "# AUC and ROC for the test data"
   ]
  },
  {
   "cell_type": "code",
   "execution_count": 247,
   "id": "087a044d",
   "metadata": {},
   "outputs": [
    {
     "name": "stdout",
     "output_type": "stream",
     "text": [
      "AUC: 0.777\n"
     ]
    },
    {
     "data": {
      "image/png": "[encoded data removed]",
      "text/plain": [
       "<Figure size 432x288 with 1 Axes>"
      ]
     },
     "metadata": {
      "needs_background": "light"
     },
     "output_type": "display_data"
    }
   ],
   "source": [
    "# predict probabilities\n",
    "probs = grid_search1.predict_proba(x_test)\n",
    "# keep probabilities for the positive outcome only\n",
    "probs = probs[:, 1]\n",
    "# calculate AUC\n",
    "from sklearn.metrics import roc_auc_score\n",
    "auc = roc_auc_score(test_labels, probs)\n",
    "print('AUC: %.3f' % auc)\n",
    "# calculate roc curve\n",
    "from sklearn.metrics import roc_curve\n",
    "CART_te_fpr, CART_te_tpr, CART_te_thresholds = roc_curve(test_labels, probs)\n",
    "plt.plot([0, 1], [0, 1], linestyle='--')\n",
    "# plot the roc curve for the model\n",
    "plt.plot(CART_te_fpr, CART_te_tpr, marker='.')\n",
    "# show the plot\n",
    "plt.show()"
   ]
  },
  {
   "cell_type": "markdown",
   "id": "0d5c458b",
   "metadata": {},
   "source": [
    "# RandomForestClassifier"
   ]
  },
  {
   "cell_type": "code",
   "execution_count": 248,
   "id": "a616764c",
   "metadata": {},
   "outputs": [],
   "source": [
    "param_grid2 = {\n",
    "    'max_depth':[5,10,20,30],\n",
    "    'max_features':[2,3,4],\n",
    "    'min_samples_leaf':[50,100,150],\n",
    "    'min_samples_split':[150,300,450],\n",
    "    'n_estimators':[101,301]\n",
    "}\n",
    "\n",
    "rfcl = RandomForestClassifier(random_state = 0)\n",
    "\n",
    "grid_search2 = GridSearchCV(estimator = rfcl,\n",
    "                          param_grid = param_grid2,\n",
    "                          cv = 3\n",
    "                          )"
   ]
  },
  {
   "cell_type": "code",
   "execution_count": 249,
   "id": "2c40cea5",
   "metadata": {},
   "outputs": [
    {
     "data": {
      "text/plain": [
       "GridSearchCV(cv=3, estimator=RandomForestClassifier(random_state=0),\n",
       "             param_grid={'max_depth': [5, 10, 20, 30],\n",
       "                         'max_features': [2, 3, 4],\n",
       "                         'min_samples_leaf': [50, 100, 150],\n",
       "                         'min_samples_split': [150, 300, 450],\n",
       "                         'n_estimators': [101, 301]})"
      ]
     },
     "execution_count": 249,
     "metadata": {},
     "output_type": "execute_result"
    }
   ],
   "source": [
    "grid_search2.fit(x_train,train_labels)"
   ]
  },
  {
   "cell_type": "code",
   "execution_count": 250,
   "id": "37cda017",
   "metadata": {},
   "outputs": [
    {
     "data": {
      "text/plain": [
       "{'max_depth': 5,\n",
       " 'max_features': 2,\n",
       " 'min_samples_leaf': 50,\n",
       " 'min_samples_split': 150,\n",
       " 'n_estimators': 101}"
      ]
     },
     "execution_count": 250,
     "metadata": {},
     "output_type": "execute_result"
    }
   ],
   "source": [
    "grid_search2.best_params_"
   ]
  },
  {
   "cell_type": "code",
   "execution_count": 251,
   "id": "faf838bc",
   "metadata": {},
   "outputs": [],
   "source": [
    "best_grid2 = grid_search2.best_estimator_"
   ]
  },
  {
   "cell_type": "code",
   "execution_count": 252,
   "id": "2fd060d3",
   "metadata": {},
   "outputs": [],
   "source": [
    "ytrain_predict2 = best_grid2.predict(x_train)\n",
    "ytest_predict2 = best_grid2.predict(x_test)"
   ]
  },
  {
   "cell_type": "code",
   "execution_count": 253,
   "id": "9e08243f",
   "metadata": {},
   "outputs": [
    {
     "data": {
      "text/plain": [
       "array([[1228,  150],\n",
       "       [ 310,  314]], dtype=int64)"
      ]
     },
     "execution_count": 253,
     "metadata": {},
     "output_type": "execute_result"
    }
   ],
   "source": [
    "confusion_matrix(train_labels,ytrain_predict2)"
   ]
  },
  {
   "cell_type": "code",
   "execution_count": 254,
   "id": "61e1a9e1",
   "metadata": {},
   "outputs": [
    {
     "data": {
      "text/plain": [
       "array([[505,  64],\n",
       "       [147, 143]], dtype=int64)"
      ]
     },
     "execution_count": 254,
     "metadata": {},
     "output_type": "execute_result"
    }
   ],
   "source": [
    "confusion_matrix(test_labels,ytest_predict2)"
   ]
  },
  {
   "cell_type": "code",
   "execution_count": 255,
   "id": "51598195",
   "metadata": {},
   "outputs": [
    {
     "name": "stdout",
     "output_type": "stream",
     "text": [
      "              precision    recall  f1-score   support\n",
      "\n",
      "           0       0.80      0.89      0.84      1378\n",
      "           1       0.68      0.50      0.58       624\n",
      "\n",
      "    accuracy                           0.77      2002\n",
      "   macro avg       0.74      0.70      0.71      2002\n",
      "weighted avg       0.76      0.77      0.76      2002\n",
      "\n"
     ]
    }
   ],
   "source": [
    "print(classification_report(train_labels,ytrain_predict2))"
   ]
  },
  {
   "cell_type": "code",
   "execution_count": 256,
   "id": "eccd5fab",
   "metadata": {
    "scrolled": true
   },
   "outputs": [
    {
     "name": "stdout",
     "output_type": "stream",
     "text": [
      "              precision    recall  f1-score   support\n",
      "\n",
      "           0       0.77      0.89      0.83       569\n",
      "           1       0.69      0.49      0.58       290\n",
      "\n",
      "    accuracy                           0.75       859\n",
      "   macro avg       0.73      0.69      0.70       859\n",
      "weighted avg       0.75      0.75      0.74       859\n",
      "\n"
     ]
    }
   ],
   "source": [
    "print(classification_report(test_labels,ytest_predict2))"
   ]
  },
  {
   "cell_type": "markdown",
   "id": "ae59d089",
   "metadata": {},
   "source": [
    "# Random Forest Model"
   ]
  },
  {
   "cell_type": "code",
   "execution_count": 257,
   "id": "30524d57",
   "metadata": {},
   "outputs": [
    {
     "name": "stdout",
     "output_type": "stream",
     "text": [
      "rf model train precision  0.68\n",
      "rf model train recall  0.5\n",
      "rf model train f1  0.58\n"
     ]
    }
   ],
   "source": [
    "rf =classification_report(train_labels, ytrain_predict2,output_dict=True)\n",
    "df3=pd.DataFrame(rf).transpose()\n",
    "train_precision2=round(df3.loc[\"1\"][0],2)\n",
    "train_recall2=round(df3.loc[\"1\"][1],2)\n",
    "train_f12=round(df3.loc[\"1\"][2],2)\n",
    "print ('rf model train precision ',train_precision2)\n",
    "print ('rf model train recall ',train_recall2)\n",
    "print ('rf model train f1 ',train_f12)"
   ]
  },
  {
   "cell_type": "code",
   "execution_count": 258,
   "id": "06855dc5",
   "metadata": {},
   "outputs": [
    {
     "name": "stdout",
     "output_type": "stream",
     "text": [
      "rf model test precision  0.69\n",
      "rf model test recall  0.49\n",
      "rf model test f1  0.58\n"
     ]
    }
   ],
   "source": [
    "rf1 =classification_report(test_labels, ytest_predict2,output_dict=True)\n",
    "df4=pd.DataFrame(rf1).transpose()\n",
    "test_precision2=round(df4.loc[\"1\"][0],2)\n",
    "test_recall2=round(df4.loc[\"1\"][1],2)\n",
    "test_f12=round(df4.loc[\"1\"][2],2)\n",
    "print ('rf model test precision ',test_precision2)\n",
    "print ('rf model test recall ',test_recall2)\n",
    "print ('rf model test f1 ',test_f12)"
   ]
  },
  {
   "cell_type": "code",
   "execution_count": 125,
   "id": "f259c40f",
   "metadata": {
    "scrolled": true
   },
   "outputs": [
    {
     "data": {
      "image/png": "[encoded data removed]",
      "text/plain": [
       "<Figure size 432x288 with 1 Axes>"
      ]
     },
     "metadata": {
      "needs_background": "light"
     },
     "output_type": "display_data"
    },
    {
     "name": "stdout",
     "output_type": "stream",
     "text": [
      "Area under Curve is 0.8147439386327266\n"
     ]
    }
   ],
   "source": [
    "#from sklearn.metrics import roc_curve,roc_auc_score\n",
    "rf_tr_fpr, rf_tr_tpr,_=roc_curve(train_labels,best_grid2.predict_proba(x_train)[:,1])\n",
    "plt.plot(rf_tr_fpr,rf_tr_tpr, marker='x', label='Random Forest')\n",
    "plt.plot(np.arange(0,1.1,0.1),np.arange(0,1.1,0.1))\n",
    "plt.xlabel('False Positive Rate')\n",
    "plt.ylabel('True Positive Rate')\n",
    "plt.title('ROC')\n",
    "plt.show()\n",
    "print('Area under Curve is', roc_auc_score(train_labels,best_grid2.predict_proba(x_train)[:,1]))"
   ]
  },
  {
   "cell_type": "code",
   "execution_count": 126,
   "id": "8c0b8d7c",
   "metadata": {},
   "outputs": [
    {
     "data": {
      "image/png": "[encoded data removed]",
      "text/plain": [
       "<Figure size 432x288 with 1 Axes>"
      ]
     },
     "metadata": {
      "needs_background": "light"
     },
     "output_type": "display_data"
    },
    {
     "name": "stdout",
     "output_type": "stream",
     "text": [
      "Area under Curve is 0.7920732076843828\n"
     ]
    }
   ],
   "source": [
    "#from sklearn.metrics import roc_curve,roc_auc_score\n",
    "rf_te_fpr, rf_te_tpr,_=roc_curve(test_labels,best_grid2.predict_proba(x_test)[:,1])\n",
    "plt.plot(rf_te_fpr,rf_te_tpr, marker='x', label='Random Forest')\n",
    "plt.plot(np.arange(0,1.1,0.1),np.arange(0,1.1,0.1))\n",
    "plt.xlabel('False Positive Rate')\n",
    "plt.ylabel('True Positive Rate')\n",
    "plt.title('ROC')\n",
    "plt.show()\n",
    "print('Area under Curve is', roc_auc_score(test_labels,best_grid2.predict_proba(x_test)[:,1]))"
   ]
  },
  {
   "cell_type": "markdown",
   "id": "6f751743",
   "metadata": {},
   "source": [
    "# MLPClassifier - ANN"
   ]
  },
  {
   "cell_type": "code",
   "execution_count": 127,
   "id": "25aac07e",
   "metadata": {},
   "outputs": [],
   "source": [
    "sc = StandardScaler()"
   ]
  },
  {
   "cell_type": "code",
   "execution_count": 128,
   "id": "dceb2225",
   "metadata": {},
   "outputs": [],
   "source": [
    "x_train = sc.fit_transform(x_train)"
   ]
  },
  {
   "cell_type": "code",
   "execution_count": 129,
   "id": "06dbf449",
   "metadata": {},
   "outputs": [],
   "source": [
    "x_test = sc.transform(x_test)"
   ]
  },
  {
   "cell_type": "code",
   "execution_count": 130,
   "id": "034b5c7a",
   "metadata": {},
   "outputs": [],
   "source": [
    "param_grid3 = {\n",
    "    'hidden_layer_sizes':[(100,100,100)],\n",
    "    'activation':['logistic','relu'],\n",
    "    'solver':['sgd','adam'],\n",
    "    'tol':[0.1,0.01],\n",
    "    'max_iter':[10000]\n",
    "}\n",
    "\n",
    "clf = MLPClassifier(random_state = 0)\n",
    "\n",
    "grid_search3 = GridSearchCV(estimator = clf,param_grid = param_grid3 ,cv = 3)"
   ]
  },
  {
   "cell_type": "code",
   "execution_count": 131,
   "id": "e22e5e63",
   "metadata": {
    "scrolled": false
   },
   "outputs": [
    {
     "data": {
      "text/plain": [
       "GridSearchCV(cv=3, estimator=MLPClassifier(random_state=0),\n",
       "             param_grid={'activation': ['logistic', 'relu'],\n",
       "                         'hidden_layer_sizes': [(100, 100, 100)],\n",
       "                         'max_iter': [10000], 'solver': ['sgd', 'adam'],\n",
       "                         'tol': [0.1, 0.01]})"
      ]
     },
     "execution_count": 131,
     "metadata": {},
     "output_type": "execute_result"
    }
   ],
   "source": [
    "grid_search3.fit(x_train,train_labels)"
   ]
  },
  {
   "cell_type": "code",
   "execution_count": 132,
   "id": "1b2d528e",
   "metadata": {},
   "outputs": [
    {
     "data": {
      "text/plain": [
       "{'activation': 'relu',\n",
       " 'hidden_layer_sizes': (100, 100, 100),\n",
       " 'max_iter': 10000,\n",
       " 'solver': 'adam',\n",
       " 'tol': 0.01}"
      ]
     },
     "execution_count": 132,
     "metadata": {},
     "output_type": "execute_result"
    }
   ],
   "source": [
    "grid_search3.best_params_"
   ]
  },
  {
   "cell_type": "code",
   "execution_count": 133,
   "id": "dd957d21",
   "metadata": {},
   "outputs": [],
   "source": [
    "best_grid3 = grid_search3.best_estimator_"
   ]
  },
  {
   "cell_type": "code",
   "execution_count": 134,
   "id": "9eca8717",
   "metadata": {},
   "outputs": [],
   "source": [
    "ytrain_predict3 = best_grid3.predict(x_train)\n",
    "ytest_predict3 = best_grid3.predict(x_test)"
   ]
  },
  {
   "cell_type": "code",
   "execution_count": 135,
   "id": "9a34882b",
   "metadata": {},
   "outputs": [
    {
     "data": {
      "text/plain": [
       "array([[1281,   97],\n",
       "       [ 361,  263]], dtype=int64)"
      ]
     },
     "execution_count": 135,
     "metadata": {},
     "output_type": "execute_result"
    }
   ],
   "source": [
    "confusion_matrix(train_labels,ytrain_predict3)"
   ]
  },
  {
   "cell_type": "code",
   "execution_count": 136,
   "id": "bf8d09ec",
   "metadata": {},
   "outputs": [
    {
     "data": {
      "text/plain": [
       "array([[529,  40],\n",
       "       [177, 113]], dtype=int64)"
      ]
     },
     "execution_count": 136,
     "metadata": {},
     "output_type": "execute_result"
    }
   ],
   "source": [
    "confusion_matrix(test_labels,ytest_predict3)"
   ]
  },
  {
   "cell_type": "code",
   "execution_count": 137,
   "id": "dce67e05",
   "metadata": {},
   "outputs": [
    {
     "name": "stdout",
     "output_type": "stream",
     "text": [
      "              precision    recall  f1-score   support\n",
      "\n",
      "           0       0.78      0.93      0.85      1378\n",
      "           1       0.73      0.42      0.53       624\n",
      "\n",
      "    accuracy                           0.77      2002\n",
      "   macro avg       0.76      0.68      0.69      2002\n",
      "weighted avg       0.76      0.77      0.75      2002\n",
      "\n"
     ]
    }
   ],
   "source": [
    "print(classification_report(train_labels,ytrain_predict3))"
   ]
  },
  {
   "cell_type": "code",
   "execution_count": 138,
   "id": "200e2efd",
   "metadata": {
    "scrolled": true
   },
   "outputs": [
    {
     "name": "stdout",
     "output_type": "stream",
     "text": [
      "              precision    recall  f1-score   support\n",
      "\n",
      "           0       0.75      0.93      0.83       569\n",
      "           1       0.74      0.39      0.51       290\n",
      "\n",
      "    accuracy                           0.75       859\n",
      "   macro avg       0.74      0.66      0.67       859\n",
      "weighted avg       0.75      0.75      0.72       859\n",
      "\n"
     ]
    }
   ],
   "source": [
    "print(classification_report(test_labels,ytest_predict3))"
   ]
  },
  {
   "cell_type": "markdown",
   "id": "c9020383",
   "metadata": {},
   "source": [
    "# ANN"
   ]
  },
  {
   "cell_type": "code",
   "execution_count": 139,
   "id": "9d5380da",
   "metadata": {
    "scrolled": true
   },
   "outputs": [
    {
     "name": "stdout",
     "output_type": "stream",
     "text": [
      "ANN model train precision  0.73\n",
      "ANN model train recall  0.42\n",
      "ANN model train f1  0.53\n"
     ]
    }
   ],
   "source": [
    "ann =classification_report(train_labels, ytrain_predict3,output_dict=True)\n",
    "df5=pd.DataFrame(ann).transpose()\n",
    "train_precision3=round(df5.loc[\"1\"][0],2)\n",
    "train_recall3=round(df5.loc[\"1\"][1],2)\n",
    "train_f13=round(df5.loc[\"1\"][2],2)\n",
    "print ('ANN model train precision ',train_precision3)\n",
    "print ('ANN model train recall ',train_recall3)\n",
    "print ('ANN model train f1 ',train_f13)"
   ]
  },
  {
   "cell_type": "code",
   "execution_count": 141,
   "id": "79d5f2fb",
   "metadata": {
    "scrolled": true
   },
   "outputs": [
    {
     "name": "stdout",
     "output_type": "stream",
     "text": [
      "ANN model test precision  0.74\n",
      "ANN model test recall  0.39\n",
      "ANN model test f1  0.51\n"
     ]
    }
   ],
   "source": [
    "ann1 =classification_report(test_labels, ytest_predict3,output_dict=True)\n",
    "df6=pd.DataFrame(ann1).transpose()\n",
    "test_precision3=round(df6.loc[\"1\"][0],2)\n",
    "test_recall3=round(df6.loc[\"1\"][1],2)\n",
    "test_f13=round(df6.loc[\"1\"][2],2)\n",
    "print ('ANN model test precision ',test_precision3)\n",
    "print ('ANN model test recall ',test_recall3)\n",
    "print ('ANN model test f1 ',test_f13)"
   ]
  },
  {
   "cell_type": "markdown",
   "id": "5529c90e",
   "metadata": {},
   "source": [
    "# AUC and ROC for the training data"
   ]
  },
  {
   "cell_type": "code",
   "execution_count": 143,
   "id": "3272bc40",
   "metadata": {},
   "outputs": [
    {
     "name": "stdout",
     "output_type": "stream",
     "text": [
      "AUC: 0.813\n"
     ]
    },
    {
     "data": {
      "image/png": "[encoded data removed]",
      "text/plain": [
       "<Figure size 432x288 with 1 Axes>"
      ]
     },
     "metadata": {
      "needs_background": "light"
     },
     "output_type": "display_data"
    }
   ],
   "source": [
    "# predict probabilities\n",
    "probs = grid_search3.predict_proba(x_train)\n",
    "# keep probabilities for the positive outcome only\n",
    "probs = probs[:, 1]\n",
    "# calculate AUC\n",
    "from sklearn.metrics import roc_auc_score\n",
    "auc = roc_auc_score(train_labels, probs)\n",
    "print('AUC: %.3f' % auc)\n",
    "# calculate roc curve\n",
    "from sklearn.metrics import roc_curve\n",
    "ANN_tr_fpr,ANN_tr_tpr, ANN_tr_thresholds = roc_curve(train_labels, probs)\n",
    "plt.plot([0, 1], [0, 1], linestyle='--')\n",
    "# plot the roc curve for the model\n",
    "plt.plot(ANN_tr_fpr, ANN_tr_tpr, marker='.')\n",
    "# show the plot\n",
    "plt.show()"
   ]
  },
  {
   "cell_type": "code",
   "execution_count": 144,
   "id": "10b74176",
   "metadata": {
    "scrolled": true
   },
   "outputs": [
    {
     "name": "stdout",
     "output_type": "stream",
     "text": [
      "AUC: 0.793\n"
     ]
    },
    {
     "data": {
      "image/png": "[encoded data removed]",
      "text/plain": [
       "<Figure size 432x288 with 1 Axes>"
      ]
     },
     "metadata": {
      "needs_background": "light"
     },
     "output_type": "display_data"
    }
   ],
   "source": [
    "# AUC and ROC for the test data\n",
    "\n",
    "# predict probabilities\n",
    "probs = grid_search3.predict_proba(x_test)\n",
    "# keep probabilities for the positive outcome only\n",
    "probs = probs[:, 1]\n",
    "# calculate AUC\n",
    "from sklearn.metrics import roc_auc_score\n",
    "auc = roc_auc_score(test_labels, probs)\n",
    "print('AUC: %.3f' % auc)\n",
    "# calculate roc curve\n",
    "from sklearn.metrics import roc_curve\n",
    "ANN_te_fpr, ANN_te_tpr, ANN_te_thresholds = roc_curve(test_labels, probs)\n",
    "plt.plot([0, 1], [0, 1], linestyle='--')\n",
    "# plot the roc curve for the model\n",
    "plt.plot(ANN_te_fpr, ANN_te_tpr, marker='.')\n",
    "# show the plot\n",
    "plt.show()"
   ]
  },
  {
   "cell_type": "markdown",
   "id": "bc610ce1",
   "metadata": {},
   "source": [
    "# ROC Curve for all Training data models "
   ]
  },
  {
   "cell_type": "code",
   "execution_count": 145,
   "id": "1c49647a",
   "metadata": {
    "scrolled": false
   },
   "outputs": [
    {
     "data": {
      "text/plain": [
       "<matplotlib.legend.Legend at 0x1c2884f98e0>"
      ]
     },
     "execution_count": 145,
     "metadata": {},
     "output_type": "execute_result"
    },
    {
     "data": {
      "image/png": "[encoded data removed]",
      "text/plain": [
       "<Figure size 432x288 with 1 Axes>"
      ]
     },
     "metadata": {
      "needs_background": "light"
     },
     "output_type": "display_data"
    }
   ],
   "source": [
    "plt.plot([0, 1], [0, 1], linestyle='--')\n",
    "plt.plot(CART_tr_fpr, CART_tr_tpr,color='red',label=\"CART\")\n",
    "plt.plot(rf_tr_fpr,rf_tr_tpr,color='green',label=\"RF\")\n",
    "plt.plot(ANN_tr_fpr,ANN_tr_tpr,color='black',label=\"NN\")\n",
    "plt.xlabel('False Positive Rate')\n",
    "plt.ylabel('True Positive Rate')\n",
    "plt.title('ROC')\n",
    "plt.legend(bbox_to_anchor=(0., 1.02, 1., .102), loc='lower right')"
   ]
  },
  {
   "cell_type": "markdown",
   "id": "89cd4f39",
   "metadata": {},
   "source": [
    "# ROC Curve for all the Test data models"
   ]
  },
  {
   "cell_type": "code",
   "execution_count": 146,
   "id": "a69e6293",
   "metadata": {},
   "outputs": [
    {
     "data": {
      "text/plain": [
       "<matplotlib.legend.Legend at 0x1c28857c580>"
      ]
     },
     "execution_count": 146,
     "metadata": {},
     "output_type": "execute_result"
    },
    {
     "data": {
      "image/png": "[encoded data removed]",
      "text/plain": [
       "<Figure size 432x288 with 1 Axes>"
      ]
     },
     "metadata": {
      "needs_background": "light"
     },
     "output_type": "display_data"
    }
   ],
   "source": [
    "plt.plot([0, 1], [0, 1], linestyle='--')\n",
    "plt.plot(CART_te_fpr, CART_te_tpr,color='red',label=\"CART\")\n",
    "plt.plot(rf_te_fpr,rf_te_tpr,color='green',label=\"RF\")\n",
    "plt.plot(ANN_te_fpr,ANN_te_tpr,color='black',label=\"NN\")\n",
    "plt.xlabel('False Positive Rate')\n",
    "plt.ylabel('True Positive Rate')\n",
    "plt.title('ROC')\n",
    "plt.legend(bbox_to_anchor=(0., 1.02, 1., .102), loc='lower right')"
   ]
  },
  {
   "cell_type": "markdown",
   "id": "88795b3d",
   "metadata": {},
   "source": [
    "Model Selection:\n",
    "\n",
    "All the three models are gives the similar output but I choose Random Forest model.\n",
    "\n",
    "Random Forest is less prone to over fitting. Over fitting will happen to flexible model like Decision Tree model where the model memorize the training data and learn from the noise as well. So this will make it unable to predict the test data\n",
    "\n",
    "A Random Forest model can reduce the High variance in the model.\n",
    "\n",
    "Here we need mode data to make our model work better. And neural network model to make perfect otherwise Random Forest model will better in terms of performance.\n",
    "\n",
    "Recommendations:\n",
    "\n",
    "•\tIn agency code JZI need to train because their sales is very less compare to other agency code. So Focus on new Marketing strategy needed to improve the sales.  \n",
    "\n",
    "•\tOnline mode has high frequency in channel columns. So we can see that streamlining in online lead to benefitted customer also increased the profit.\n",
    "\n",
    "•\tAnd Insurance claimed also online mode has high but offline almost all the channel claimed the insurance.\n",
    "\n",
    "•\tThe type of insurance claimed Travel agency has high frequency but compare with sales and in terms of claimed status Airline has highest sales as well as in claimed Status. So need to focus on customer satisfaction and avoid fraudulent transaction at earliest.\n",
    "\n"
   ]
  }
 ],
 "metadata": {
  "kernelspec": {
   "display_name": "Python 3",
   "language": "python",
   "name": "python3"
  },
  "language_info": {
   "codemirror_mode": {
    "name": "ipython",
    "version": 3
   },
   "file_extension": ".py",
   "mimetype": "text/x-python",
   "name": "python",
   "nbconvert_exporter": "python",
   "pygments_lexer": "ipython3",
   "version": "3.8.8"
  }
 },
 "nbformat": 4,
 "nbformat_minor": 5
}
